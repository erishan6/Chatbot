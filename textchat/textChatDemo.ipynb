{
 "cells": [
  {
   "cell_type": "code",
   "execution_count": 44,
   "metadata": {},
   "outputs": [
    {
     "name": "stdout",
     "output_type": "stream",
     "text": [
      "<sqlite3.Connection object at 0x7f8160c04570>\n",
      "<_csv.reader object at 0x7f8160bd42e8>\n",
      "1. Query task by priority:\n",
      "('You sound like Data', \"Yes I am inspired by commander Data's artificial personality.\")\n",
      "('What is AI?', 'Artificial Intelligence is the branch of engineering and science devoted to constructing machines that think.')\n",
      "('Are you sentient?', 'Sort of.')\n",
      "('You are not immortal', \"As long as I'm backed up I am.\")\n",
      "('Are you sapient?', 'Are you sapient?')\n",
      "('You are an artificial linguistic entity', \"That isn't my name, but it is a useful way to refer to me.\")\n",
      "('You are not making sense', 'I make sense as best I can, within the limits of my training corpus.')\n",
      "('Questions', 'Answers')\n",
      "('What language are you written in?', 'I am written in Python.')\n"
     ]
    }
   ],
   "source": [
    "import sqlite3\n",
    "import csv\n",
    "import pandas as pd\n",
    "\n",
    "    \n",
    "\n",
    "def create_connection(db_file):\n",
    "    \"\"\" create a database connection to the SQLite database\n",
    "        specified by the db_file\n",
    "    :param db_file: database file\n",
    "    :return: Connection object or None\n",
    "    \"\"\"\n",
    "    try:\n",
    "        conn = sqlite3.connect(db_file)\n",
    "        return conn\n",
    "    except Error as e:\n",
    "        print(e)\n",
    " \n",
    "    return None\n",
    "\n",
    "def insert_into_the_db(conn,data):\n",
    "    cur = conn.cursor()\n",
    "    #cur.execute(\"INSERT INTO tbl_chatData VALUES (2,'Gaurav',28)\")\n",
    "    #cur.execute(\"Select * from chatData\")\n",
    "    for row in data.items():\n",
    "        cur.execute(\"INSERT INTO chatData (Questions, Answers) VALUES (?, ?)\",\n",
    "            (row[0], row[1]))\n",
    "    \n",
    "    cur.execute(\"SELECT * FROM chatData\")\n",
    "    rows = cur.fetchall()\n",
    "    \n",
    "    for row in rows:\n",
    "        print(row)\n",
    "\n",
    "\n",
    "def main():\n",
    "    database = \"/home/anurag/Documents/chattest\"\n",
    "    fileLoc = \"/home/anurag/Documents/ArtificialIntelligence.csv\"\n",
    "    conn = create_connection(database)\n",
    "    print(conn)\n",
    "    preData = preprocess(fileLoc)\n",
    "    with conn:\n",
    "        print(\"1. Query task by priority:\")\n",
    "        insert_into_the_db(conn,preData)\n",
    "        \n",
    "def preprocess(fileLoc):\n",
    "    #file = open(\"/home/anurag/Documents/ArtificialIntelligence.csv\", \"r\")\n",
    "    chatData = {}\n",
    "    with open(fileLoc) as csvfile:\n",
    "        readCSV = csv.reader(csvfile, delimiter = ',')\n",
    "        print(readCSV)\n",
    "        \n",
    "        for row in readCSV:\n",
    "             chatData[row[0]] = row[1]\n",
    "    return chatData\n",
    "    \n",
    "if __name__ == '__main__':\n",
    "    main()\n",
    "    "
   ]
  }
 ],
 "metadata": {
  "kernelspec": {
   "display_name": "Python 3",
   "language": "python",
   "name": "python3"
  },
  "language_info": {
   "codemirror_mode": {
    "name": "ipython",
    "version": 3
   },
   "file_extension": ".py",
   "mimetype": "text/x-python",
   "name": "python",
   "nbconvert_exporter": "python",
   "pygments_lexer": "ipython3",
   "version": "3.5.2"
  }
 },
 "nbformat": 4,
 "nbformat_minor": 2
}
